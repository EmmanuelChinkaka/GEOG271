{
  "cells": [
    {
      "cell_type": "markdown",
      "metadata": {
        "id": "jdhpLYl7GGoJ"
      },
      "source": [
        "**Introduction to Python**<br/>\n",
        "Prof. Dr. Jan Kirenz <br/>\n",
        "Hochschule der Medien Stuttgart"
      ]
    },
    {
      "cell_type": "markdown",
      "metadata": {
        "toc": true,
        "id": "mUUCwlkhGGoM"
      },
      "source": [
        "<h1>Table of Contents<span class=\"tocSkip\"></span></h1>\n",
        "<div class=\"toc\"><ul class=\"toc-item\"><li><span><a href=\"#Import-data\" data-toc-modified-id=\"Import-data-1\"><span class=\"toc-item-num\">1&nbsp;&nbsp;</span>Import data</a></span></li><li><span><a href=\"#Data-transformation\" data-toc-modified-id=\"Data-transformation-2\"><span class=\"toc-item-num\">2&nbsp;&nbsp;</span>Data transformation</a></span><ul class=\"toc-item\"><li><span><a href=\"#Descriptive-statistics\" data-toc-modified-id=\"Descriptive-statistics-2.1\"><span class=\"toc-item-num\">2.1&nbsp;&nbsp;</span>Descriptive statistics</a></span><ul class=\"toc-item\"><li><span><a href=\"#Measures-of-central-tendency\" data-toc-modified-id=\"Measures-of-central-tendency-2.1.1\"><span class=\"toc-item-num\">2.1.1&nbsp;&nbsp;</span>Measures of central tendency</a></span></li><li><span><a href=\"#Measures-of-dispersion\" data-toc-modified-id=\"Measures-of-dispersion-2.1.2\"><span class=\"toc-item-num\">2.1.2&nbsp;&nbsp;</span>Measures of dispersion</a></span></li><li><span><a href=\"#Summary-statistics\" data-toc-modified-id=\"Summary-statistics-2.1.3\"><span class=\"toc-item-num\">2.1.3&nbsp;&nbsp;</span>Summary statistics</a></span></li></ul></li></ul></li></ul></div>"
      ]
    },
    {
      "cell_type": "code",
      "execution_count": 1,
      "metadata": {
        "id": "3YjpxeAdGGoN"
      },
      "outputs": [],
      "source": [
        "import pandas as pd"
      ]
    },
    {
      "cell_type": "markdown",
      "metadata": {
        "id": "ntA3_YyiGGoO"
      },
      "source": [
        "## Import data"
      ]
    },
    {
      "cell_type": "code",
      "execution_count": 2,
      "metadata": {
        "id": "fXpq32_fGGoO"
      },
      "outputs": [],
      "source": [
        "# Import data from GitHub (or from your local computer)\n",
        "df = pd.read_csv(\"https://raw.githubusercontent.com/kirenz/datasets/master/wage.csv\")"
      ]
    },
    {
      "cell_type": "code",
      "source": [
        "df"
      ],
      "metadata": {
        "colab": {
          "base_uri": "https://localhost:8080/",
          "height": 424
        },
        "id": "1z_VwqU5GMyk",
        "outputId": "75fb1277-9f65-443c-d988-f88f22fd8bf7"
      },
      "execution_count": 3,
      "outputs": [
        {
          "output_type": "execute_result",
          "data": {
            "text/plain": [
              "      Unnamed: 0  year  age            maritl      race        education  \\\n",
              "0         231655  2006   18  1. Never Married  1. White     1. < HS Grad   \n",
              "1          86582  2004   24  1. Never Married  1. White  4. College Grad   \n",
              "2         161300  2003   45        2. Married  1. White  3. Some College   \n",
              "3         155159  2003   43        2. Married  3. Asian  4. College Grad   \n",
              "4          11443  2005   50       4. Divorced  1. White       2. HS Grad   \n",
              "...          ...   ...  ...               ...       ...              ...   \n",
              "2995      376816  2008   44        2. Married  1. White  3. Some College   \n",
              "2996      302281  2007   30        2. Married  1. White       2. HS Grad   \n",
              "2997       10033  2005   27        2. Married  2. Black     1. < HS Grad   \n",
              "2998       14375  2005   27  1. Never Married  1. White  3. Some College   \n",
              "2999      453557  2009   55      5. Separated  1. White       2. HS Grad   \n",
              "\n",
              "                  region        jobclass          health health_ins   logwage  \\\n",
              "0     2. Middle Atlantic   1. Industrial       1. <=Good      2. No  4.318063   \n",
              "1     2. Middle Atlantic  2. Information  2. >=Very Good      2. No  4.255273   \n",
              "2     2. Middle Atlantic   1. Industrial       1. <=Good     1. Yes  4.875061   \n",
              "3     2. Middle Atlantic  2. Information  2. >=Very Good     1. Yes  5.041393   \n",
              "4     2. Middle Atlantic  2. Information       1. <=Good     1. Yes  4.318063   \n",
              "...                  ...             ...             ...        ...       ...   \n",
              "2995  2. Middle Atlantic   1. Industrial  2. >=Very Good     1. Yes  5.041393   \n",
              "2996  2. Middle Atlantic   1. Industrial  2. >=Very Good      2. No  4.602060   \n",
              "2997  2. Middle Atlantic   1. Industrial       1. <=Good      2. No  4.193125   \n",
              "2998  2. Middle Atlantic   1. Industrial  2. >=Very Good     1. Yes  4.477121   \n",
              "2999  2. Middle Atlantic   1. Industrial       1. <=Good     1. Yes  4.505150   \n",
              "\n",
              "            wage  \n",
              "0      75.043154  \n",
              "1      70.476020  \n",
              "2     130.982177  \n",
              "3     154.685293  \n",
              "4      75.043154  \n",
              "...          ...  \n",
              "2995  154.685293  \n",
              "2996   99.689464  \n",
              "2997   66.229408  \n",
              "2998   87.981033  \n",
              "2999   90.481913  \n",
              "\n",
              "[3000 rows x 12 columns]"
            ],
            "text/html": [
              "\n",
              "  <div id=\"df-827c02e9-4d9b-41ac-9dc9-d904c8cba5c6\">\n",
              "    <div class=\"colab-df-container\">\n",
              "      <div>\n",
              "<style scoped>\n",
              "    .dataframe tbody tr th:only-of-type {\n",
              "        vertical-align: middle;\n",
              "    }\n",
              "\n",
              "    .dataframe tbody tr th {\n",
              "        vertical-align: top;\n",
              "    }\n",
              "\n",
              "    .dataframe thead th {\n",
              "        text-align: right;\n",
              "    }\n",
              "</style>\n",
              "<table border=\"1\" class=\"dataframe\">\n",
              "  <thead>\n",
              "    <tr style=\"text-align: right;\">\n",
              "      <th></th>\n",
              "      <th>Unnamed: 0</th>\n",
              "      <th>year</th>\n",
              "      <th>age</th>\n",
              "      <th>maritl</th>\n",
              "      <th>race</th>\n",
              "      <th>education</th>\n",
              "      <th>region</th>\n",
              "      <th>jobclass</th>\n",
              "      <th>health</th>\n",
              "      <th>health_ins</th>\n",
              "      <th>logwage</th>\n",
              "      <th>wage</th>\n",
              "    </tr>\n",
              "  </thead>\n",
              "  <tbody>\n",
              "    <tr>\n",
              "      <th>0</th>\n",
              "      <td>231655</td>\n",
              "      <td>2006</td>\n",
              "      <td>18</td>\n",
              "      <td>1. Never Married</td>\n",
              "      <td>1. White</td>\n",
              "      <td>1. &lt; HS Grad</td>\n",
              "      <td>2. Middle Atlantic</td>\n",
              "      <td>1. Industrial</td>\n",
              "      <td>1. &lt;=Good</td>\n",
              "      <td>2. No</td>\n",
              "      <td>4.318063</td>\n",
              "      <td>75.043154</td>\n",
              "    </tr>\n",
              "    <tr>\n",
              "      <th>1</th>\n",
              "      <td>86582</td>\n",
              "      <td>2004</td>\n",
              "      <td>24</td>\n",
              "      <td>1. Never Married</td>\n",
              "      <td>1. White</td>\n",
              "      <td>4. College Grad</td>\n",
              "      <td>2. Middle Atlantic</td>\n",
              "      <td>2. Information</td>\n",
              "      <td>2. &gt;=Very Good</td>\n",
              "      <td>2. No</td>\n",
              "      <td>4.255273</td>\n",
              "      <td>70.476020</td>\n",
              "    </tr>\n",
              "    <tr>\n",
              "      <th>2</th>\n",
              "      <td>161300</td>\n",
              "      <td>2003</td>\n",
              "      <td>45</td>\n",
              "      <td>2. Married</td>\n",
              "      <td>1. White</td>\n",
              "      <td>3. Some College</td>\n",
              "      <td>2. Middle Atlantic</td>\n",
              "      <td>1. Industrial</td>\n",
              "      <td>1. &lt;=Good</td>\n",
              "      <td>1. Yes</td>\n",
              "      <td>4.875061</td>\n",
              "      <td>130.982177</td>\n",
              "    </tr>\n",
              "    <tr>\n",
              "      <th>3</th>\n",
              "      <td>155159</td>\n",
              "      <td>2003</td>\n",
              "      <td>43</td>\n",
              "      <td>2. Married</td>\n",
              "      <td>3. Asian</td>\n",
              "      <td>4. College Grad</td>\n",
              "      <td>2. Middle Atlantic</td>\n",
              "      <td>2. Information</td>\n",
              "      <td>2. &gt;=Very Good</td>\n",
              "      <td>1. Yes</td>\n",
              "      <td>5.041393</td>\n",
              "      <td>154.685293</td>\n",
              "    </tr>\n",
              "    <tr>\n",
              "      <th>4</th>\n",
              "      <td>11443</td>\n",
              "      <td>2005</td>\n",
              "      <td>50</td>\n",
              "      <td>4. Divorced</td>\n",
              "      <td>1. White</td>\n",
              "      <td>2. HS Grad</td>\n",
              "      <td>2. Middle Atlantic</td>\n",
              "      <td>2. Information</td>\n",
              "      <td>1. &lt;=Good</td>\n",
              "      <td>1. Yes</td>\n",
              "      <td>4.318063</td>\n",
              "      <td>75.043154</td>\n",
              "    </tr>\n",
              "    <tr>\n",
              "      <th>...</th>\n",
              "      <td>...</td>\n",
              "      <td>...</td>\n",
              "      <td>...</td>\n",
              "      <td>...</td>\n",
              "      <td>...</td>\n",
              "      <td>...</td>\n",
              "      <td>...</td>\n",
              "      <td>...</td>\n",
              "      <td>...</td>\n",
              "      <td>...</td>\n",
              "      <td>...</td>\n",
              "      <td>...</td>\n",
              "    </tr>\n",
              "    <tr>\n",
              "      <th>2995</th>\n",
              "      <td>376816</td>\n",
              "      <td>2008</td>\n",
              "      <td>44</td>\n",
              "      <td>2. Married</td>\n",
              "      <td>1. White</td>\n",
              "      <td>3. Some College</td>\n",
              "      <td>2. Middle Atlantic</td>\n",
              "      <td>1. Industrial</td>\n",
              "      <td>2. &gt;=Very Good</td>\n",
              "      <td>1. Yes</td>\n",
              "      <td>5.041393</td>\n",
              "      <td>154.685293</td>\n",
              "    </tr>\n",
              "    <tr>\n",
              "      <th>2996</th>\n",
              "      <td>302281</td>\n",
              "      <td>2007</td>\n",
              "      <td>30</td>\n",
              "      <td>2. Married</td>\n",
              "      <td>1. White</td>\n",
              "      <td>2. HS Grad</td>\n",
              "      <td>2. Middle Atlantic</td>\n",
              "      <td>1. Industrial</td>\n",
              "      <td>2. &gt;=Very Good</td>\n",
              "      <td>2. No</td>\n",
              "      <td>4.602060</td>\n",
              "      <td>99.689464</td>\n",
              "    </tr>\n",
              "    <tr>\n",
              "      <th>2997</th>\n",
              "      <td>10033</td>\n",
              "      <td>2005</td>\n",
              "      <td>27</td>\n",
              "      <td>2. Married</td>\n",
              "      <td>2. Black</td>\n",
              "      <td>1. &lt; HS Grad</td>\n",
              "      <td>2. Middle Atlantic</td>\n",
              "      <td>1. Industrial</td>\n",
              "      <td>1. &lt;=Good</td>\n",
              "      <td>2. No</td>\n",
              "      <td>4.193125</td>\n",
              "      <td>66.229408</td>\n",
              "    </tr>\n",
              "    <tr>\n",
              "      <th>2998</th>\n",
              "      <td>14375</td>\n",
              "      <td>2005</td>\n",
              "      <td>27</td>\n",
              "      <td>1. Never Married</td>\n",
              "      <td>1. White</td>\n",
              "      <td>3. Some College</td>\n",
              "      <td>2. Middle Atlantic</td>\n",
              "      <td>1. Industrial</td>\n",
              "      <td>2. &gt;=Very Good</td>\n",
              "      <td>1. Yes</td>\n",
              "      <td>4.477121</td>\n",
              "      <td>87.981033</td>\n",
              "    </tr>\n",
              "    <tr>\n",
              "      <th>2999</th>\n",
              "      <td>453557</td>\n",
              "      <td>2009</td>\n",
              "      <td>55</td>\n",
              "      <td>5. Separated</td>\n",
              "      <td>1. White</td>\n",
              "      <td>2. HS Grad</td>\n",
              "      <td>2. Middle Atlantic</td>\n",
              "      <td>1. Industrial</td>\n",
              "      <td>1. &lt;=Good</td>\n",
              "      <td>1. Yes</td>\n",
              "      <td>4.505150</td>\n",
              "      <td>90.481913</td>\n",
              "    </tr>\n",
              "  </tbody>\n",
              "</table>\n",
              "<p>3000 rows × 12 columns</p>\n",
              "</div>\n",
              "      <button class=\"colab-df-convert\" onclick=\"convertToInteractive('df-827c02e9-4d9b-41ac-9dc9-d904c8cba5c6')\"\n",
              "              title=\"Convert this dataframe to an interactive table.\"\n",
              "              style=\"display:none;\">\n",
              "        \n",
              "  <svg xmlns=\"http://www.w3.org/2000/svg\" height=\"24px\"viewBox=\"0 0 24 24\"\n",
              "       width=\"24px\">\n",
              "    <path d=\"M0 0h24v24H0V0z\" fill=\"none\"/>\n",
              "    <path d=\"M18.56 5.44l.94 2.06.94-2.06 2.06-.94-2.06-.94-.94-2.06-.94 2.06-2.06.94zm-11 1L8.5 8.5l.94-2.06 2.06-.94-2.06-.94L8.5 2.5l-.94 2.06-2.06.94zm10 10l.94 2.06.94-2.06 2.06-.94-2.06-.94-.94-2.06-.94 2.06-2.06.94z\"/><path d=\"M17.41 7.96l-1.37-1.37c-.4-.4-.92-.59-1.43-.59-.52 0-1.04.2-1.43.59L10.3 9.45l-7.72 7.72c-.78.78-.78 2.05 0 2.83L4 21.41c.39.39.9.59 1.41.59.51 0 1.02-.2 1.41-.59l7.78-7.78 2.81-2.81c.8-.78.8-2.07 0-2.86zM5.41 20L4 18.59l7.72-7.72 1.47 1.35L5.41 20z\"/>\n",
              "  </svg>\n",
              "      </button>\n",
              "      \n",
              "  <style>\n",
              "    .colab-df-container {\n",
              "      display:flex;\n",
              "      flex-wrap:wrap;\n",
              "      gap: 12px;\n",
              "    }\n",
              "\n",
              "    .colab-df-convert {\n",
              "      background-color: #E8F0FE;\n",
              "      border: none;\n",
              "      border-radius: 50%;\n",
              "      cursor: pointer;\n",
              "      display: none;\n",
              "      fill: #1967D2;\n",
              "      height: 32px;\n",
              "      padding: 0 0 0 0;\n",
              "      width: 32px;\n",
              "    }\n",
              "\n",
              "    .colab-df-convert:hover {\n",
              "      background-color: #E2EBFA;\n",
              "      box-shadow: 0px 1px 2px rgba(60, 64, 67, 0.3), 0px 1px 3px 1px rgba(60, 64, 67, 0.15);\n",
              "      fill: #174EA6;\n",
              "    }\n",
              "\n",
              "    [theme=dark] .colab-df-convert {\n",
              "      background-color: #3B4455;\n",
              "      fill: #D2E3FC;\n",
              "    }\n",
              "\n",
              "    [theme=dark] .colab-df-convert:hover {\n",
              "      background-color: #434B5C;\n",
              "      box-shadow: 0px 1px 3px 1px rgba(0, 0, 0, 0.15);\n",
              "      filter: drop-shadow(0px 1px 2px rgba(0, 0, 0, 0.3));\n",
              "      fill: #FFFFFF;\n",
              "    }\n",
              "  </style>\n",
              "\n",
              "      <script>\n",
              "        const buttonEl =\n",
              "          document.querySelector('#df-827c02e9-4d9b-41ac-9dc9-d904c8cba5c6 button.colab-df-convert');\n",
              "        buttonEl.style.display =\n",
              "          google.colab.kernel.accessAllowed ? 'block' : 'none';\n",
              "\n",
              "        async function convertToInteractive(key) {\n",
              "          const element = document.querySelector('#df-827c02e9-4d9b-41ac-9dc9-d904c8cba5c6');\n",
              "          const dataTable =\n",
              "            await google.colab.kernel.invokeFunction('convertToInteractive',\n",
              "                                                     [key], {});\n",
              "          if (!dataTable) return;\n",
              "\n",
              "          const docLinkHtml = 'Like what you see? Visit the ' +\n",
              "            '<a target=\"_blank\" href=https://colab.research.google.com/notebooks/data_table.ipynb>data table notebook</a>'\n",
              "            + ' to learn more about interactive tables.';\n",
              "          element.innerHTML = '';\n",
              "          dataTable['output_type'] = 'display_data';\n",
              "          await google.colab.output.renderOutput(dataTable, element);\n",
              "          const docLink = document.createElement('div');\n",
              "          docLink.innerHTML = docLinkHtml;\n",
              "          element.appendChild(docLink);\n",
              "        }\n",
              "      </script>\n",
              "    </div>\n",
              "  </div>\n",
              "  "
            ]
          },
          "metadata": {},
          "execution_count": 3
        }
      ]
    },
    {
      "cell_type": "markdown",
      "metadata": {
        "id": "RYGwqZUTGGoO"
      },
      "source": [
        "## Data transformation"
      ]
    },
    {
      "cell_type": "markdown",
      "metadata": {
        "id": "BDhg3IKwGGoP"
      },
      "source": [
        "### Descriptive statistics"
      ]
    },
    {
      "cell_type": "markdown",
      "metadata": {
        "id": "bN3DjAt9GGoP"
      },
      "source": [
        "#### Measures of central tendency"
      ]
    },
    {
      "cell_type": "markdown",
      "metadata": {
        "id": "L84_t0tbGGoQ"
      },
      "source": [
        "First of all we obtain some common statistics per variable."
      ]
    },
    {
      "cell_type": "code",
      "execution_count": 4,
      "metadata": {
        "colab": {
          "base_uri": "https://localhost:8080/"
        },
        "id": "zc4KopmWGGoQ",
        "outputId": "2d79d078-babe-4ad9-cc00-e525cb9cc516"
      },
      "outputs": [
        {
          "output_type": "execute_result",
          "data": {
            "text/plain": [
              "0    40\n",
              "dtype: int64"
            ]
          },
          "metadata": {},
          "execution_count": 4
        }
      ],
      "source": [
        "# mode\n",
        "df['age'].mode()"
      ]
    },
    {
      "cell_type": "code",
      "execution_count": 14,
      "metadata": {
        "id": "SoArkQxlGGoR"
      },
      "outputs": [],
      "source": [
        "# calculation of the mean (e.g. for age)\n",
        "mean = df[\"age\"].mean()"
      ]
    },
    {
      "cell_type": "code",
      "execution_count": 16,
      "metadata": {
        "colab": {
          "base_uri": "https://localhost:8080/"
        },
        "id": "KFoM-jqnGGoT",
        "outputId": "5bf3b5cf-f6e7-408c-a0bf-8512957defb2"
      },
      "outputs": [
        {
          "output_type": "execute_result",
          "data": {
            "text/plain": [
              "42.41"
            ]
          },
          "metadata": {},
          "execution_count": 16
        }
      ],
      "source": [
        "# calculation of the mean (e.g. for age) and round the result\n",
        "mean = round(df[\"age\"].mean(), 2)\n",
        "mean"
      ]
    },
    {
      "cell_type": "code",
      "execution_count": 17,
      "metadata": {
        "scrolled": true,
        "colab": {
          "base_uri": "https://localhost:8080/"
        },
        "id": "qNEVaS62GGoU",
        "outputId": "f00a5576-f3da-406d-f3a3-0a60e1d1a040"
      },
      "outputs": [
        {
          "output_type": "execute_result",
          "data": {
            "text/plain": [
              "42.0"
            ]
          },
          "metadata": {},
          "execution_count": 17
        }
      ],
      "source": [
        "# calculation of the median (e.g. for age)\n",
        "median = df[\"age\"].median()\n",
        "median "
      ]
    },
    {
      "cell_type": "code",
      "execution_count": 8,
      "metadata": {
        "colab": {
          "base_uri": "https://localhost:8080/"
        },
        "id": "3kYIINjgGGoU",
        "outputId": "0b6f3fa4-8f9c-41e2-9320-c0502585bbe2"
      },
      "outputs": [
        {
          "output_type": "stream",
          "name": "stdout",
          "text": [
            "The median of age is 42.0\n"
          ]
        }
      ],
      "source": [
        "# use a function to print a text with the output\n",
        "print(f'The median of age is {df[\"age\"].median()}')"
      ]
    },
    {
      "cell_type": "markdown",
      "metadata": {
        "id": "BRijq-kVGGoV"
      },
      "source": [
        "#### Measures of dispersion "
      ]
    },
    {
      "cell_type": "code",
      "execution_count": 9,
      "metadata": {
        "colab": {
          "base_uri": "https://localhost:8080/"
        },
        "id": "dvw_Sk2NGGoV",
        "outputId": "8bd383df-14f2-4d33-8ce8-d0f19bf5810e"
      },
      "outputs": [
        {
          "output_type": "execute_result",
          "data": {
            "text/plain": [
              "0.25    33.75\n",
              "0.50    42.00\n",
              "0.75    51.00\n",
              "Name: age, dtype: float64"
            ]
          },
          "metadata": {},
          "execution_count": 9
        }
      ],
      "source": [
        "# quantiles\n",
        "df['age'].quantile([.25, .5, .75])"
      ]
    },
    {
      "cell_type": "code",
      "execution_count": 10,
      "metadata": {
        "colab": {
          "base_uri": "https://localhost:8080/"
        },
        "id": "dz5m0zSIGGoV",
        "outputId": "04bc8fac-93df-4630-d4bf-4b452755c4ad"
      },
      "outputs": [
        {
          "output_type": "execute_result",
          "data": {
            "text/plain": [
              "62"
            ]
          },
          "metadata": {},
          "execution_count": 10
        }
      ],
      "source": [
        "# Range\n",
        "df['age'].max() - df['age'].min()"
      ]
    },
    {
      "cell_type": "code",
      "execution_count": 11,
      "metadata": {
        "colab": {
          "base_uri": "https://localhost:8080/"
        },
        "id": "2slvuqaiGGoV",
        "outputId": "412d75cc-47b2-43e4-9725-631d179edbd0"
      },
      "outputs": [
        {
          "output_type": "execute_result",
          "data": {
            "text/plain": [
              "11.54"
            ]
          },
          "metadata": {},
          "execution_count": 11
        }
      ],
      "source": [
        "# standard deviation\n",
        "round(df['age'].std(),2)"
      ]
    },
    {
      "cell_type": "markdown",
      "metadata": {
        "id": "kkFYCW4QGGoW"
      },
      "source": [
        "#### Summary statistics"
      ]
    },
    {
      "cell_type": "code",
      "execution_count": 12,
      "metadata": {
        "colab": {
          "base_uri": "https://localhost:8080/",
          "height": 300
        },
        "id": "CDmWr10PGGoW",
        "outputId": "4d2b77a6-a958-4861-bf90-314810c50c33"
      },
      "outputs": [
        {
          "output_type": "execute_result",
          "data": {
            "text/plain": [
              "       Unnamed: 0     year      age  logwage     wage\n",
              "count     3000.00  3000.00  3000.00  3000.00  3000.00\n",
              "mean    218883.37  2005.79    42.41     4.65   111.70\n",
              "std     145654.07     2.03    11.54     0.35    41.73\n",
              "min       7373.00  2003.00    18.00     3.00    20.09\n",
              "25%      85622.25  2004.00    33.75     4.45    85.38\n",
              "50%     228799.50  2006.00    42.00     4.65   104.92\n",
              "75%     374759.50  2008.00    51.00     4.86   128.68\n",
              "max     453870.00  2009.00    80.00     5.76   318.34"
            ],
            "text/html": [
              "\n",
              "  <div id=\"df-800c34f4-57ee-48a0-b482-55003b9cee87\">\n",
              "    <div class=\"colab-df-container\">\n",
              "      <div>\n",
              "<style scoped>\n",
              "    .dataframe tbody tr th:only-of-type {\n",
              "        vertical-align: middle;\n",
              "    }\n",
              "\n",
              "    .dataframe tbody tr th {\n",
              "        vertical-align: top;\n",
              "    }\n",
              "\n",
              "    .dataframe thead th {\n",
              "        text-align: right;\n",
              "    }\n",
              "</style>\n",
              "<table border=\"1\" class=\"dataframe\">\n",
              "  <thead>\n",
              "    <tr style=\"text-align: right;\">\n",
              "      <th></th>\n",
              "      <th>Unnamed: 0</th>\n",
              "      <th>year</th>\n",
              "      <th>age</th>\n",
              "      <th>logwage</th>\n",
              "      <th>wage</th>\n",
              "    </tr>\n",
              "  </thead>\n",
              "  <tbody>\n",
              "    <tr>\n",
              "      <th>count</th>\n",
              "      <td>3000.00</td>\n",
              "      <td>3000.00</td>\n",
              "      <td>3000.00</td>\n",
              "      <td>3000.00</td>\n",
              "      <td>3000.00</td>\n",
              "    </tr>\n",
              "    <tr>\n",
              "      <th>mean</th>\n",
              "      <td>218883.37</td>\n",
              "      <td>2005.79</td>\n",
              "      <td>42.41</td>\n",
              "      <td>4.65</td>\n",
              "      <td>111.70</td>\n",
              "    </tr>\n",
              "    <tr>\n",
              "      <th>std</th>\n",
              "      <td>145654.07</td>\n",
              "      <td>2.03</td>\n",
              "      <td>11.54</td>\n",
              "      <td>0.35</td>\n",
              "      <td>41.73</td>\n",
              "    </tr>\n",
              "    <tr>\n",
              "      <th>min</th>\n",
              "      <td>7373.00</td>\n",
              "      <td>2003.00</td>\n",
              "      <td>18.00</td>\n",
              "      <td>3.00</td>\n",
              "      <td>20.09</td>\n",
              "    </tr>\n",
              "    <tr>\n",
              "      <th>25%</th>\n",
              "      <td>85622.25</td>\n",
              "      <td>2004.00</td>\n",
              "      <td>33.75</td>\n",
              "      <td>4.45</td>\n",
              "      <td>85.38</td>\n",
              "    </tr>\n",
              "    <tr>\n",
              "      <th>50%</th>\n",
              "      <td>228799.50</td>\n",
              "      <td>2006.00</td>\n",
              "      <td>42.00</td>\n",
              "      <td>4.65</td>\n",
              "      <td>104.92</td>\n",
              "    </tr>\n",
              "    <tr>\n",
              "      <th>75%</th>\n",
              "      <td>374759.50</td>\n",
              "      <td>2008.00</td>\n",
              "      <td>51.00</td>\n",
              "      <td>4.86</td>\n",
              "      <td>128.68</td>\n",
              "    </tr>\n",
              "    <tr>\n",
              "      <th>max</th>\n",
              "      <td>453870.00</td>\n",
              "      <td>2009.00</td>\n",
              "      <td>80.00</td>\n",
              "      <td>5.76</td>\n",
              "      <td>318.34</td>\n",
              "    </tr>\n",
              "  </tbody>\n",
              "</table>\n",
              "</div>\n",
              "      <button class=\"colab-df-convert\" onclick=\"convertToInteractive('df-800c34f4-57ee-48a0-b482-55003b9cee87')\"\n",
              "              title=\"Convert this dataframe to an interactive table.\"\n",
              "              style=\"display:none;\">\n",
              "        \n",
              "  <svg xmlns=\"http://www.w3.org/2000/svg\" height=\"24px\"viewBox=\"0 0 24 24\"\n",
              "       width=\"24px\">\n",
              "    <path d=\"M0 0h24v24H0V0z\" fill=\"none\"/>\n",
              "    <path d=\"M18.56 5.44l.94 2.06.94-2.06 2.06-.94-2.06-.94-.94-2.06-.94 2.06-2.06.94zm-11 1L8.5 8.5l.94-2.06 2.06-.94-2.06-.94L8.5 2.5l-.94 2.06-2.06.94zm10 10l.94 2.06.94-2.06 2.06-.94-2.06-.94-.94-2.06-.94 2.06-2.06.94z\"/><path d=\"M17.41 7.96l-1.37-1.37c-.4-.4-.92-.59-1.43-.59-.52 0-1.04.2-1.43.59L10.3 9.45l-7.72 7.72c-.78.78-.78 2.05 0 2.83L4 21.41c.39.39.9.59 1.41.59.51 0 1.02-.2 1.41-.59l7.78-7.78 2.81-2.81c.8-.78.8-2.07 0-2.86zM5.41 20L4 18.59l7.72-7.72 1.47 1.35L5.41 20z\"/>\n",
              "  </svg>\n",
              "      </button>\n",
              "      \n",
              "  <style>\n",
              "    .colab-df-container {\n",
              "      display:flex;\n",
              "      flex-wrap:wrap;\n",
              "      gap: 12px;\n",
              "    }\n",
              "\n",
              "    .colab-df-convert {\n",
              "      background-color: #E8F0FE;\n",
              "      border: none;\n",
              "      border-radius: 50%;\n",
              "      cursor: pointer;\n",
              "      display: none;\n",
              "      fill: #1967D2;\n",
              "      height: 32px;\n",
              "      padding: 0 0 0 0;\n",
              "      width: 32px;\n",
              "    }\n",
              "\n",
              "    .colab-df-convert:hover {\n",
              "      background-color: #E2EBFA;\n",
              "      box-shadow: 0px 1px 2px rgba(60, 64, 67, 0.3), 0px 1px 3px 1px rgba(60, 64, 67, 0.15);\n",
              "      fill: #174EA6;\n",
              "    }\n",
              "\n",
              "    [theme=dark] .colab-df-convert {\n",
              "      background-color: #3B4455;\n",
              "      fill: #D2E3FC;\n",
              "    }\n",
              "\n",
              "    [theme=dark] .colab-df-convert:hover {\n",
              "      background-color: #434B5C;\n",
              "      box-shadow: 0px 1px 3px 1px rgba(0, 0, 0, 0.15);\n",
              "      filter: drop-shadow(0px 1px 2px rgba(0, 0, 0, 0.3));\n",
              "      fill: #FFFFFF;\n",
              "    }\n",
              "  </style>\n",
              "\n",
              "      <script>\n",
              "        const buttonEl =\n",
              "          document.querySelector('#df-800c34f4-57ee-48a0-b482-55003b9cee87 button.colab-df-convert');\n",
              "        buttonEl.style.display =\n",
              "          google.colab.kernel.accessAllowed ? 'block' : 'none';\n",
              "\n",
              "        async function convertToInteractive(key) {\n",
              "          const element = document.querySelector('#df-800c34f4-57ee-48a0-b482-55003b9cee87');\n",
              "          const dataTable =\n",
              "            await google.colab.kernel.invokeFunction('convertToInteractive',\n",
              "                                                     [key], {});\n",
              "          if (!dataTable) return;\n",
              "\n",
              "          const docLinkHtml = 'Like what you see? Visit the ' +\n",
              "            '<a target=\"_blank\" href=https://colab.research.google.com/notebooks/data_table.ipynb>data table notebook</a>'\n",
              "            + ' to learn more about interactive tables.';\n",
              "          element.innerHTML = '';\n",
              "          dataTable['output_type'] = 'display_data';\n",
              "          await google.colab.output.renderOutput(dataTable, element);\n",
              "          const docLink = document.createElement('div');\n",
              "          docLink.innerHTML = docLinkHtml;\n",
              "          element.appendChild(docLink);\n",
              "        }\n",
              "      </script>\n",
              "    </div>\n",
              "  </div>\n",
              "  "
            ]
          },
          "metadata": {},
          "execution_count": 12
        }
      ],
      "source": [
        "# summary statistics for all numerical columns\n",
        "round(df.describe(),2)"
      ]
    },
    {
      "cell_type": "markdown",
      "metadata": {
        "id": "P3HJmiVNGGoW"
      },
      "source": [
        "Compare summary statistics for specific groups in the data:"
      ]
    },
    {
      "cell_type": "code",
      "execution_count": 13,
      "metadata": {
        "colab": {
          "base_uri": "https://localhost:8080/",
          "height": 237
        },
        "id": "E3int6RIGGoW",
        "outputId": "e1723b3b-4081-4173-ff92-9600cc0420c2"
      },
      "outputs": [
        {
          "output_type": "execute_result",
          "data": {
            "text/plain": [
              "                    count       mean        std   min   25%   50%    75%   max\n",
              "education                                                                     \n",
              "1. < HS Grad        268.0  41.794776  12.611111  18.0  33.0  41.5  50.25  75.0\n",
              "2. HS Grad          971.0  42.217302  12.023480  18.0  33.0  42.0  50.00  80.0\n",
              "3. Some College     650.0  40.887692  11.523327  18.0  32.0  40.0  49.00  80.0\n",
              "4. College Grad     685.0  42.773723  10.902406  22.0  34.0  43.0  51.00  76.0\n",
              "5. Advanced Degree  426.0  45.007042  10.263468  25.0  38.0  44.0  53.00  76.0"
            ],
            "text/html": [
              "\n",
              "  <div id=\"df-68a19e1a-0aa1-4b95-875d-890f91be87af\">\n",
              "    <div class=\"colab-df-container\">\n",
              "      <div>\n",
              "<style scoped>\n",
              "    .dataframe tbody tr th:only-of-type {\n",
              "        vertical-align: middle;\n",
              "    }\n",
              "\n",
              "    .dataframe tbody tr th {\n",
              "        vertical-align: top;\n",
              "    }\n",
              "\n",
              "    .dataframe thead th {\n",
              "        text-align: right;\n",
              "    }\n",
              "</style>\n",
              "<table border=\"1\" class=\"dataframe\">\n",
              "  <thead>\n",
              "    <tr style=\"text-align: right;\">\n",
              "      <th></th>\n",
              "      <th>count</th>\n",
              "      <th>mean</th>\n",
              "      <th>std</th>\n",
              "      <th>min</th>\n",
              "      <th>25%</th>\n",
              "      <th>50%</th>\n",
              "      <th>75%</th>\n",
              "      <th>max</th>\n",
              "    </tr>\n",
              "    <tr>\n",
              "      <th>education</th>\n",
              "      <th></th>\n",
              "      <th></th>\n",
              "      <th></th>\n",
              "      <th></th>\n",
              "      <th></th>\n",
              "      <th></th>\n",
              "      <th></th>\n",
              "      <th></th>\n",
              "    </tr>\n",
              "  </thead>\n",
              "  <tbody>\n",
              "    <tr>\n",
              "      <th>1. &lt; HS Grad</th>\n",
              "      <td>268.0</td>\n",
              "      <td>41.794776</td>\n",
              "      <td>12.611111</td>\n",
              "      <td>18.0</td>\n",
              "      <td>33.0</td>\n",
              "      <td>41.5</td>\n",
              "      <td>50.25</td>\n",
              "      <td>75.0</td>\n",
              "    </tr>\n",
              "    <tr>\n",
              "      <th>2. HS Grad</th>\n",
              "      <td>971.0</td>\n",
              "      <td>42.217302</td>\n",
              "      <td>12.023480</td>\n",
              "      <td>18.0</td>\n",
              "      <td>33.0</td>\n",
              "      <td>42.0</td>\n",
              "      <td>50.00</td>\n",
              "      <td>80.0</td>\n",
              "    </tr>\n",
              "    <tr>\n",
              "      <th>3. Some College</th>\n",
              "      <td>650.0</td>\n",
              "      <td>40.887692</td>\n",
              "      <td>11.523327</td>\n",
              "      <td>18.0</td>\n",
              "      <td>32.0</td>\n",
              "      <td>40.0</td>\n",
              "      <td>49.00</td>\n",
              "      <td>80.0</td>\n",
              "    </tr>\n",
              "    <tr>\n",
              "      <th>4. College Grad</th>\n",
              "      <td>685.0</td>\n",
              "      <td>42.773723</td>\n",
              "      <td>10.902406</td>\n",
              "      <td>22.0</td>\n",
              "      <td>34.0</td>\n",
              "      <td>43.0</td>\n",
              "      <td>51.00</td>\n",
              "      <td>76.0</td>\n",
              "    </tr>\n",
              "    <tr>\n",
              "      <th>5. Advanced Degree</th>\n",
              "      <td>426.0</td>\n",
              "      <td>45.007042</td>\n",
              "      <td>10.263468</td>\n",
              "      <td>25.0</td>\n",
              "      <td>38.0</td>\n",
              "      <td>44.0</td>\n",
              "      <td>53.00</td>\n",
              "      <td>76.0</td>\n",
              "    </tr>\n",
              "  </tbody>\n",
              "</table>\n",
              "</div>\n",
              "      <button class=\"colab-df-convert\" onclick=\"convertToInteractive('df-68a19e1a-0aa1-4b95-875d-890f91be87af')\"\n",
              "              title=\"Convert this dataframe to an interactive table.\"\n",
              "              style=\"display:none;\">\n",
              "        \n",
              "  <svg xmlns=\"http://www.w3.org/2000/svg\" height=\"24px\"viewBox=\"0 0 24 24\"\n",
              "       width=\"24px\">\n",
              "    <path d=\"M0 0h24v24H0V0z\" fill=\"none\"/>\n",
              "    <path d=\"M18.56 5.44l.94 2.06.94-2.06 2.06-.94-2.06-.94-.94-2.06-.94 2.06-2.06.94zm-11 1L8.5 8.5l.94-2.06 2.06-.94-2.06-.94L8.5 2.5l-.94 2.06-2.06.94zm10 10l.94 2.06.94-2.06 2.06-.94-2.06-.94-.94-2.06-.94 2.06-2.06.94z\"/><path d=\"M17.41 7.96l-1.37-1.37c-.4-.4-.92-.59-1.43-.59-.52 0-1.04.2-1.43.59L10.3 9.45l-7.72 7.72c-.78.78-.78 2.05 0 2.83L4 21.41c.39.39.9.59 1.41.59.51 0 1.02-.2 1.41-.59l7.78-7.78 2.81-2.81c.8-.78.8-2.07 0-2.86zM5.41 20L4 18.59l7.72-7.72 1.47 1.35L5.41 20z\"/>\n",
              "  </svg>\n",
              "      </button>\n",
              "      \n",
              "  <style>\n",
              "    .colab-df-container {\n",
              "      display:flex;\n",
              "      flex-wrap:wrap;\n",
              "      gap: 12px;\n",
              "    }\n",
              "\n",
              "    .colab-df-convert {\n",
              "      background-color: #E8F0FE;\n",
              "      border: none;\n",
              "      border-radius: 50%;\n",
              "      cursor: pointer;\n",
              "      display: none;\n",
              "      fill: #1967D2;\n",
              "      height: 32px;\n",
              "      padding: 0 0 0 0;\n",
              "      width: 32px;\n",
              "    }\n",
              "\n",
              "    .colab-df-convert:hover {\n",
              "      background-color: #E2EBFA;\n",
              "      box-shadow: 0px 1px 2px rgba(60, 64, 67, 0.3), 0px 1px 3px 1px rgba(60, 64, 67, 0.15);\n",
              "      fill: #174EA6;\n",
              "    }\n",
              "\n",
              "    [theme=dark] .colab-df-convert {\n",
              "      background-color: #3B4455;\n",
              "      fill: #D2E3FC;\n",
              "    }\n",
              "\n",
              "    [theme=dark] .colab-df-convert:hover {\n",
              "      background-color: #434B5C;\n",
              "      box-shadow: 0px 1px 3px 1px rgba(0, 0, 0, 0.15);\n",
              "      filter: drop-shadow(0px 1px 2px rgba(0, 0, 0, 0.3));\n",
              "      fill: #FFFFFF;\n",
              "    }\n",
              "  </style>\n",
              "\n",
              "      <script>\n",
              "        const buttonEl =\n",
              "          document.querySelector('#df-68a19e1a-0aa1-4b95-875d-890f91be87af button.colab-df-convert');\n",
              "        buttonEl.style.display =\n",
              "          google.colab.kernel.accessAllowed ? 'block' : 'none';\n",
              "\n",
              "        async function convertToInteractive(key) {\n",
              "          const element = document.querySelector('#df-68a19e1a-0aa1-4b95-875d-890f91be87af');\n",
              "          const dataTable =\n",
              "            await google.colab.kernel.invokeFunction('convertToInteractive',\n",
              "                                                     [key], {});\n",
              "          if (!dataTable) return;\n",
              "\n",
              "          const docLinkHtml = 'Like what you see? Visit the ' +\n",
              "            '<a target=\"_blank\" href=https://colab.research.google.com/notebooks/data_table.ipynb>data table notebook</a>'\n",
              "            + ' to learn more about interactive tables.';\n",
              "          element.innerHTML = '';\n",
              "          dataTable['output_type'] = 'display_data';\n",
              "          await google.colab.output.renderOutput(dataTable, element);\n",
              "          const docLink = document.createElement('div');\n",
              "          docLink.innerHTML = docLinkHtml;\n",
              "          element.appendChild(docLink);\n",
              "        }\n",
              "      </script>\n",
              "    </div>\n",
              "  </div>\n",
              "  "
            ]
          },
          "metadata": {},
          "execution_count": 13
        }
      ],
      "source": [
        "# summary statistics by groups\n",
        "df['age'].groupby(df['education']).describe()"
      ]
    },
    {
      "cell_type": "code",
      "source": [
        "ax = df[\"age\"].hist(bins=20)  \n",
        "ax.set_xlabel('age')    \n",
        "ax.set_ylabel('Frequency')                    \n",
        "ax.axvline(mean, color='red', linestyle='solid', linewidth=2, alpha = .8)\n",
        "ax.axvline(median, color='green', linestyle='solid', linewidth=2, alpha = .8)        \n",
        "ax.legend([mean, median], labels = ['Mean', 'Median'])\n",
        "#pylab.title('Figure 1:  Histogram showing the distribution of park sizes in Philadephia, USA');"
      ],
      "metadata": {
        "id": "FKCiB4HjG-cV",
        "outputId": "5cb2938c-f7a6-4b0c-a4c6-08d09a922329",
        "colab": {
          "base_uri": "https://localhost:8080/",
          "height": 331
        }
      },
      "execution_count": 18,
      "outputs": [
        {
          "output_type": "stream",
          "name": "stderr",
          "text": [
            "<ipython-input-18-e43cb4f595f9>:6: UserWarning: You have mixed positional and keyword arguments, some input may be discarded.\n",
            "  ax.legend([mean, median], labels = ['Mean', 'Median'])\n"
          ]
        },
        {
          "output_type": "execute_result",
          "data": {
            "text/plain": [
              "<matplotlib.legend.Legend at 0x7f7a6057b700>"
            ]
          },
          "metadata": {},
          "execution_count": 18
        },
        {
          "output_type": "display_data",
          "data": {
            "text/plain": [
              "<Figure size 432x288 with 1 Axes>"
            ],
            "image/png": "[encoded data removed]"
          },
          "metadata": {
            "needs_background": "light"
          }
        }
      ]
    }
  ],
  "metadata": {
    "kernelspec": {
      "display_name": "Python 3",
      "language": "python",
      "name": "python3"
    },
    "language_info": {
      "codemirror_mode": {
        "name": "ipython",
        "version": 3
      },
      "file_extension": ".py",
      "mimetype": "text/x-python",
      "name": "python",
      "nbconvert_exporter": "python",
      "pygments_lexer": "ipython3",
      "version": "3.6.8"
    },
    "toc": {
      "base_numbering": 1,
      "nav_menu": {},
      "number_sections": true,
      "sideBar": true,
      "skip_h1_title": true,
      "title_cell": "Table of Contents",
      "title_sidebar": "Contents",
      "toc_cell": true,
      "toc_position": {},
      "toc_section_display": true,
      "toc_window_display": true
    },
    "varInspector": {
      "cols": {
        "lenName": 16,
        "lenType": 16,
        "lenVar": 40
      },
      "kernels_config": {
        "python": {
          "delete_cmd_postfix": "",
          "delete_cmd_prefix": "del ",
          "library": "var_list.py",
          "varRefreshCmd": "print(var_dic_list())"
        },
        "r": {
          "delete_cmd_postfix": ") ",
          "delete_cmd_prefix": "rm(",
          "library": "var_list.r",
          "varRefreshCmd": "cat(var_dic_list()) "
        }
      },
      "types_to_exclude": [
        "module",
        "function",
        "builtin_function_or_method",
        "instance",
        "_Feature"
      ],
      "window_display": false
    },
    "colab": {
      "provenance": []
    }
  },
  "nbformat": 4,
  "nbformat_minor": 0
}